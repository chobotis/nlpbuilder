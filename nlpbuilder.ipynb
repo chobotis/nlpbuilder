{
 "cells": [
  {
   "cell_type": "code",
   "execution_count": null,
   "metadata": {},
   "outputs": [],
   "source": [
    "import numpy\n",
    "import pandas as pd\n",
    "import matplotlib as mat\n",
    "\n",
    "import nltk "
   ]
  },
  {
   "cell_type": "markdown",
   "metadata": {},
   "source": [
    "#First Two Sections: NAME + CONTACT and EDUCATION\n",
    "#I need to structure this so that, when I export it as a docx, it can be ATS friendly"
   ]
  },
  {
   "cell_type": "code",
   "execution_count": null,
   "metadata": {},
   "outputs": [],
   "source": [
    "def section1(resume_text):\n",
    "    #Print Name and Contact Information\n",
    "    name = \"Rosa Kim Cho\"\n",
    "    contact_info = \"(909) 973-7826 | rkimcho343@gmail.com | www.linkedin.com/in/rkc317/ | https://chobotis.github.io \"\n",
    "    return name, contact_info\n"
   ]
  },
  {
   "cell_type": "code",
   "execution_count": null,
   "metadata": {},
   "outputs": [],
   "source": [
    "#Print Education\n",
    "print(\"\")"
   ]
  },
  {
   "cell_type": "markdown",
   "metadata": {},
   "source": [
    "#3rd Section: Skills"
   ]
  },
  {
   "cell_type": "code",
   "execution_count": null,
   "metadata": {},
   "outputs": [],
   "source": [
    "#this is where the cvs parser from NLPparser comes in\n",
    "\n",
    "#summon NLPParser \n",
    "\n",
    "#if job description includes keywords, parse keywords and print them into skills\n",
    "\n",
    "#-------------------------------------------\n",
    "print(\"SKILLS: \")"
   ]
  },
  {
   "cell_type": "markdown",
   "metadata": {},
   "source": [
    "#4th section: Experience"
   ]
  },
  {
   "cell_type": "code",
   "execution_count": null,
   "metadata": {},
   "outputs": [],
   "source": [
    "#This is where the Experience Library is \n",
    "\n",
    "#summon Experience Library \n",
    "\n",
    "Freelance_Programmer = [\"Programmer\", \"Freelance\", \"April 2014 - present\", \"* Worked on \"]\n",
    "Data Analyst = []\n"
   ]
  },
  {
   "cell_type": "code",
   "execution_count": null,
   "metadata": {},
   "outputs": [],
   "source": [
    "#Connect the dots \n",
    "#Ex. If job description states \"Data Analyst\" AND contains keywords \"tableau\", insert Data Analyst and Data Visualizer and Student Researcher into Experience section"
   ]
  }
 ],
 "metadata": {
  "language_info": {
   "name": "python"
  }
 },
 "nbformat": 4,
 "nbformat_minor": 2
}
