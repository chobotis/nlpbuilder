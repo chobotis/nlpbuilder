{
 "cells": [
  {
   "cell_type": "code",
   "execution_count": 3,
   "metadata": {
    "ExecuteTime": {
     "end_time": "2023-11-15T23:22:38.112230700Z",
     "start_time": "2023-11-15T23:22:35.222419700Z"
    }
   },
   "outputs": [],
   "source": [
    "# importing all required libraries\n",
    "\n",
    "import os\n",
    "import pandas as pd\n",
    "from collections import Counter\n",
    "import en_core_web_sm\n",
    "nlp = en_core_web_sm.load()\n",
    "from spacy.matcher import PhraseMatcher\n",
    "import gensim\n",
    "\n",
    "import matplotlib.pyplot as plt"
   ]
  },
  {
   "cell_type": "markdown",
   "metadata": {},
   "source": [
    "#First Two Sections: NAME + CONTACT and EDUCATION\n",
    "#I need to structure this so that, when I export it as a docx, it can be ATS friendly"
   ]
  },
  {
   "cell_type": "code",
   "execution_count": 4,
   "metadata": {
    "ExecuteTime": {
     "end_time": "2023-11-15T23:22:43.472345Z",
     "start_time": "2023-11-15T23:22:43.463350600Z"
    }
   },
   "outputs": [],
   "source": [
    "def section1(resume_text):\n",
    "    #Print Name and Contact Information\n",
    "    name = \"Rosa Kim Cho\"\n",
    "    contact_info = \"(909) 973-7826 | rkimcho343@gmail.com | www.linkedin.com/in/rkc317/ | https://chobotis.github.io \"\n",
    "    return name, contact_info\n"
   ]
  },
  {
   "cell_type": "code",
   "execution_count": 5,
   "metadata": {
    "ExecuteTime": {
     "end_time": "2023-11-15T23:22:45.620012500Z",
     "start_time": "2023-11-15T23:22:45.610003200Z"
    }
   },
   "outputs": [],
   "source": [
    "#Print Education\n",
    "def section2(resume_text):\n",
    "    #Print Education both Masters and Bachelors\n",
    "    masters = \"Computer Science, Master of Science, California State University, Fullerton, 9/2018 - 5/2023\"\n",
    "    bachelors = \"Cognitive Science, Bachelor of Science, University of California, San Diego, 9/2009 - 9/2014\"\n",
    "    return masters, bachelors"
   ]
  },
  {
   "cell_type": "markdown",
   "metadata": {},
   "source": [
    "#3rd Section: Skills"
   ]
  },
  {
   "cell_type": "code",
   "execution_count": null,
   "metadata": {},
   "outputs": [],
   "source": [
    "from os import read\n",
    "\n",
    "\n",
    "#this is where the cvs parser from NLPparser comes in\n",
    "\n",
    "#summon NLPParser \n",
    "\n",
    "#if job description includes keywords, parse keywords and print them into skills\n",
    "\n",
    "#-------------------------------------------\n",
    "def section3(resume_text):\n",
    "    # Use the previously mentioned code to extract keywords from the job description\n",
    "    text = read('../job_desc.txt')\n",
    "    text = str(text)\n",
    "    text = text.replace(\"\\\\n\", \"\")\n",
    "    text = text.lower()\n",
    "\n",
    "    # below is the csv where we have all the keywords, you can customize your own\n",
    "    keyword_dict = pd.read_csv('D:/Documents/resumes/template_new.csv')\n",
    "    stats_words = [nlp(text) for text in keyword_dict['Statistics '].dropna(axis=0)]\n",
    "    NLP_words = [nlp(text) for text in keyword_dict['NLP'].dropna(axis=0)]\n",
    "    ML_words = [nlp(text) for text in keyword_dict['Machine Learning'].dropna(axis=0)]\n",
    "    DL_words = [nlp(text) for text in keyword_dict['Deep Learning'].dropna(axis=0)]\n",
    "    R_words = [nlp(text) for text in keyword_dict['R Language'].dropna(axis=0)]\n",
    "    python_words = [nlp(text) for text in keyword_dict['Python Language'].dropna(axis=0)]\n",
    "    Data_Engineering_words = [nlp(text) for text in keyword_dict['Data Engineering'].dropna(axis=0)]\n",
    "    health_words =[nlp(text) for text in keyword_dict['Health'].dropna(axis=0)]\n",
    "\n",
    "    matcher = PhraseMatcher(nlp.vocab)\n",
    "    matcher.add('Stats', None, *stats_words)\n",
    "    matcher.add('NLP', None, *NLP_words)\n",
    "    matcher.add('ML', None, *ML_words)\n",
    "    matcher.add('DL', None, *DL_words)\n",
    "    matcher.add('R', None, *R_words)\n",
    "    matcher.add('Python', None, *python_words)\n",
    "    matcher.add('DE', None, *Data_Engineering_words)\n",
    "    matcher.add('HE', None, *health_words)\n",
    "    doc = nlp(text)\n",
    "\n",
    "    d = []\n",
    "    matches = matcher(doc)\n",
    "    for match_id, start, end in matches:\n",
    "        rule_id = nlp.vocab.strings[match_id]  # get the unicode ID, i.e. 'COLOR'\n",
    "        span = doc[start: end]  # get the matched slice of the doc\n",
    "        d.append((rule_id, span.text))\n",
    "    keywords = \"\\n\".join(f'{i[0]} {i[1]} ({j})' for i, j in Counter(d).items())\n",
    "\n",
    "\n",
    "    ## print list\n",
    "    skills = [keywords]\n",
    "    \n",
    "    return skills"
   ]
  },
  {
   "cell_type": "markdown",
   "metadata": {},
   "source": [
    "#4th section: Experience"
   ]
  },
  {
   "cell_type": "code",
   "execution_count": null,
   "metadata": {},
   "outputs": [],
   "source": [
    "def section4(job_keywords):\n",
    "\n",
    "    #This is where the Experience Library is \n",
    "    \n",
    "    #summon Experience Library \n",
    "    Freelance_Programmer = [\"Programmer\", \"Freelance\", \"April 2014 - present\", \"* Worked on \"]\n",
    "    Data Analyst = []\n",
    "    \n",
    "        experience_dict = {\n",
    "            'Programming': 'Led a team of developers in implementing and maintaining web applications using Python and Django.',\n",
    "            'Project Management': 'Managed multiple projects simultaneously, ensuring timely delivery and client satisfaction.',\n",
    "            # Add more entries based on your desired keywords\n",
    "        }\n",
    "    \n",
    "        # Match keywords from the job description to the entries in the dictionary\n",
    "        relevant_experience = [experience_dict[keyword] for keyword in job_keywords if keyword in experience_dict]\n",
    "    \n",
    "        # Combine the relevant experience entries into a single string\n",
    "        experience_section = \"\\n\".join(relevant_experience)\n",
    "    \n",
    "        return experience_section\n",
    "    \n",
    "    \n",
    "    # connect path to dir where resumes are stored\n",
    "    mypath = 'D:/Documents/resumes'\n",
    "    onlyfiles = [os.path.join(mypath, f) for f in os.listdir(mypath) if os.path.isfile(os.path.join(mypath, f))]\n",
    "    \n",
    "    final_database = pd.DataFrame()\n",
    "    for file in onlyfiles:\n",
    "        dat = create_profile(os.path.join(mypath, file))\n",
    "        #final_database = final_database.append(dat)\n",
    "        final_database = pd.concat([final_database, dat], ignore_index=True)\n",
    "    \n",
    "    \n",
    "    print(final_database)"
   ]
  },
  {
   "cell_type": "markdown",
   "metadata": {},
   "source": [
    "#Connect the dots \n",
    "#Ex. If job description states \"Data Analyst\" AND contains keywords \"tableau\", insert Data Analyst and Data Visualizer and Student Researcher into Experience section"
   ]
  },
  {
   "cell_type": "code",
   "execution_count": null,
   "metadata": {},
   "outputs": [],
   "source": [
    "def build_resume(resume_text, job_description_path):\n",
    "    # Extract information from the resume\n",
    "    name, contact_info = section1(resume_text)\n",
    "    education_info = section2(resume_text)\n",
    "    job_keywords = section3(job_description_path)\n",
    "    experience_section = section4(job_keywords)\n",
    "\n",
    "    # Print or format the resume\n",
    "    print(\"1. Name + Contact Information:\")\n",
    "    print(f\"   Name: {name}\")\n",
    "    print(f\"   Contact: {contact_info}\\n\")\n",
    "\n",
    "    print(\"2. Education:\")\n",
    "    print(f\"   {education_info}\\n\")\n",
    "\n",
    "    print(\"3. Skills:\")\n",
    "    print(f\"   Keywords: {', '.join(job_keywords)}\\n\")\n",
    "\n",
    "    print(\"4. Experience:\")\n",
    "    print(experience_section)\n",
    "\n",
    "# What will be Printed\n",
    "resume_text = \"Resume: \"\n",
    "job_description_path = \"path/to/jobdescription.txt\"\n",
    "build_resume(resume_text, job_description_path)\n",
    "\n",
    "\n",
    "#Print Document\n",
    "\n",
    "document = Document()\n",
    "document.add_heading('A simple text', level=1)\n",
    "document.add_paragraph('some more text ... ')\n",
    "\n",
    "document.save('docx_file.docx')\n"
   ]
  }
 ],
 "metadata": {
  "language_info": {
   "name": "python"
  },
  "kernelspec": {
   "name": "python3",
   "language": "python",
   "display_name": "Python 3 (ipykernel)"
  }
 },
 "nbformat": 4,
 "nbformat_minor": 2
}
