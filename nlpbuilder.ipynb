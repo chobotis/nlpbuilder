{
 "cells": [
  {
   "cell_type": "code",
   "execution_count": null,
   "metadata": {},
   "outputs": [],
   "source": [
    "import numpy\n",
    "import pandas as pd\n",
    "import matplotlib as mat\n",
    "\n",
    "import nltk\n",
    "\n",
    "from docx import Document"
   ]
  },
  {
   "cell_type": "markdown",
   "metadata": {},
   "source": [
    "#First Two Sections: NAME + CONTACT and EDUCATION\n",
    "#I need to structure this so that, when I export it as a docx, it can be ATS friendly"
   ]
  },
  {
   "cell_type": "code",
   "execution_count": null,
   "metadata": {},
   "outputs": [],
   "source": [
    "def section1(resume_text):\n",
    "    #Print Name and Contact Information\n",
    "    name = \"Rosa Kim Cho\"\n",
    "    contact_info = \"(909) 973-7826 | rkimcho343@gmail.com | www.linkedin.com/in/rkc317/ | https://chobotis.github.io \"\n",
    "    return name, contact_info\n"
   ]
  },
  {
   "cell_type": "code",
   "execution_count": null,
   "metadata": {},
   "outputs": [],
   "source": [
    "#Print Education\n",
    "def section2(resume_text):\n",
    "    #Print Education both Masters and Bachelors\n",
    "    masters = \"Computer Science, Master of Science, California State University, Fullerton, 9/2018 - 5/2023\"\n",
    "    bachelors = \"Cognitive Science, Bachelor of Science, University of California, San Diego, 9/2009 - 9/2014\"\n",
    "    return masters, bachelors"
   ]
  },
  {
   "cell_type": "markdown",
   "metadata": {},
   "source": [
    "#3rd Section: Skills"
   ]
  },
  {
   "cell_type": "code",
   "execution_count": null,
   "metadata": {},
   "outputs": [],
   "source": [
    "#this is where the cvs parser from NLPparser comes in\n",
    "\n",
    "#summon NLPParser \n",
    "\n",
    "#if job description includes keywords, parse keywords and print them into skills\n",
    "\n",
    "#-------------------------------------------\n",
    "def section3(job_description_path):\n",
    "    # Use the previously mentioned code to extract keywords from the job description\n",
    "    return extract_keywords(job_description_path)\n"
   ]
  },
  {
   "cell_type": "markdown",
   "metadata": {},
   "source": [
    "#4th section: Experience"
   ]
  },
  {
   "cell_type": "code",
   "execution_count": null,
   "metadata": {},
   "outputs": [],
   "source": [
    "def section4(job_keywords):\n",
    "\n",
    "#This is where the Experience Library is \n",
    "\n",
    "#summon Experience Library \n",
    "Freelance_Programmer = [\"Programmer\", \"Freelance\", \"April 2014 - present\", \"* Worked on \"]\n",
    "Data Analyst = []\n",
    "\n",
    "    experience_dict = {\n",
    "        'Programming': 'Led a team of developers in implementing and maintaining web applications using Python and Django.',\n",
    "        'Project Management': 'Managed multiple projects simultaneously, ensuring timely delivery and client satisfaction.',\n",
    "        # Add more entries based on your desired keywords\n",
    "    }\n",
    "\n",
    "    # Match keywords from the job description to the entries in the dictionary\n",
    "    relevant_experience = [experience_dict[keyword] for keyword in job_keywords if keyword in experience_dict]\n",
    "\n",
    "    # Combine the relevant experience entries into a single string\n",
    "    experience_section = \"\\n\".join(relevant_experience)\n",
    "\n",
    "    return experience_section\n"
   ]
  },
  {
   "cell_type": "markdown",
   "metadata": {},
   "source": [
    "#Connect the dots \n",
    "#Ex. If job description states \"Data Analyst\" AND contains keywords \"tableau\", insert Data Analyst and Data Visualizer and Student Researcher into Experience section"
   ]
  },
  {
   "cell_type": "code",
   "execution_count": null,
   "metadata": {},
   "outputs": [],
   "source": [
    "def build_resume(resume_text, job_description_path):\n",
    "    # Extract information from the resume\n",
    "    name, contact_info = section1(resume_text)\n",
    "    education_info = section2(resume_text)\n",
    "    job_keywords = section3(job_description_path)\n",
    "    experience_section = section4(job_keywords)\n",
    "\n",
    "    # Print or format the resume\n",
    "    print(\"1. Name + Contact Information:\")\n",
    "    print(f\"   Name: {name}\")\n",
    "    print(f\"   Contact: {contact_info}\\n\")\n",
    "\n",
    "    print(\"2. Education:\")\n",
    "    print(f\"   {education_info}\\n\")\n",
    "\n",
    "    print(\"3. Skills:\")\n",
    "    print(f\"   Keywords: {', '.join(job_keywords)}\\n\")\n",
    "\n",
    "    print(\"4. Experience:\")\n",
    "    print(experience_section)\n",
    "\n",
    "# What will be Printed\n",
    "resume_text = \"Resume: \"\n",
    "job_description_path = \"path/to/jobdescription.txt\"\n",
    "build_resume(resume_text, job_description_path)\n",
    "\n",
    "\n",
    "#Print Document\n",
    "\n",
    "document = Document()\n",
    "document.add_heading('A simple text', level=1)\n",
    "document.add_paragraph('some more text ... ')\n",
    "\n",
    "document.save('docx_file.docx')\n"
   ]
  }
 ],
 "metadata": {
  "language_info": {
   "name": "python"
  }
 },
 "nbformat": 4,
 "nbformat_minor": 2
}
