{
 "cells": [
  {
   "cell_type": "code",
   "execution_count": 154,
   "outputs": [],
   "source": [
    "# importing all required libraries\n",
    "\n",
    "import PyPDF2\n",
    "import docx2txt\n",
    "import os\n",
    "import pandas as pd\n",
    "from collections import Counter\n",
    "import en_core_web_sm\n",
    "from docx import Document\n",
    "nlp = en_core_web_sm.load()\n",
    "from spacy.matcher import PhraseMatcher\n",
    "import io\n",
    "from io import StringIO\n",
    "from pathlib import Path\n",
    "\n",
    "import matplotlib.pyplot as plt"
   ],
   "metadata": {
    "collapsed": false,
    "ExecuteTime": {
     "end_time": "2023-11-12T02:38:51.743264200Z",
     "start_time": "2023-11-12T02:38:51.369066100Z"
    }
   },
   "id": "d0bb597769dc1025"
  },
  {
   "cell_type": "code",
   "execution_count": 155,
   "outputs": [],
   "source": [
    "#reads texts from Word docs\n",
    " \n",
    "def extract_text_from_docx(file):\n",
    "    doc = Document(file)\n",
    "    return ' '.join([paragraph.text for paragraph in doc.paragraphs])\n",
    "    "
   ],
   "metadata": {
    "collapsed": false,
    "ExecuteTime": {
     "end_time": "2023-11-12T02:38:52.044498700Z",
     "start_time": "2023-11-12T02:38:52.035987500Z"
    }
   },
   "id": "24e5874067afe17f"
  },
  {
   "cell_type": "code",
   "execution_count": 185,
   "outputs": [],
   "source": [
    "from PyPDF2 import PdfReader\n",
    "\n",
    "\n",
    "def pdfextract(file):\n",
    "    with open(file, 'rb') as pdf_file:\n",
    "        pdf_reader = PdfReader(pdf_file)\n",
    "        text = [pdf_reader.pages[count].extract_text() for count in range(len(pdf_reader.pages))]\n",
    "    return ' '.join(text)"
   ],
   "metadata": {
    "collapsed": false,
    "ExecuteTime": {
     "end_time": "2023-11-12T02:53:26.077880800Z",
     "start_time": "2023-11-12T02:53:26.072355Z"
    }
   },
   "id": "c126c53d89033e26"
  },
  {
   "cell_type": "code",
   "execution_count": null,
   "outputs": [],
   "source": [],
   "metadata": {
    "collapsed": false
   },
   "id": "da4120795caf3a6f"
  },
  {
   "cell_type": "code",
   "execution_count": 189,
   "outputs": [],
   "source": [
    "\n",
    "\n",
    "def clean_and_tokenize(text):\n",
    "    return nlp(' '.join(char.lower() for char in text if char.isalpha() or char.isspace()))\n",
    "\n",
    "\n",
    "def extract_text(file):\n",
    "    if file.endswith('.docx'):\n",
    "        return extract_text_from_docx(file)\n",
    "    elif file.endswith('.pdf'):\n",
    "        return pdfextract(file)\n",
    "    elif file.endswith('.csv'):\n",
    "        return ''\n",
    "    else:\n",
    "        raise ValueError(\"Unsupported file format\")\n",
    "\n",
    "\n",
    "def create_profile(file):\n",
    "    text = extract_text(file)\n",
    "    text = str(text)\n",
    "    text = text.replace(\"\\\\n\", \"\")\n",
    "    text = text.lower()\n",
    "\n",
    "    # below is the csv where we have all the keywords, you can customize your own\n",
    "    keyword_dict = pd.read_csv('D:/Documents/resumes/template_new.csv')\n",
    "    stats_words = [nlp(text) for text in keyword_dict['Statistics '].dropna(axis=0)]\n",
    "    NLP_words = [nlp(text) for text in keyword_dict['NLP'].dropna(axis=0)]\n",
    "    ML_words = [nlp(text) for text in keyword_dict['Machine Learning'].dropna(axis=0)]\n",
    "    DL_words = [nlp(text) for text in keyword_dict['Deep Learning'].dropna(axis=0)]\n",
    "    R_words = [nlp(text) for text in keyword_dict['R Language'].dropna(axis=0)]\n",
    "    python_words = [nlp(text) for text in keyword_dict['Python Language'].dropna(axis=0)]\n",
    "    Data_Engineering_words = [nlp(text) for text in keyword_dict['Data Engineering'].dropna(axis=0)]\n",
    "\n",
    "    matcher = PhraseMatcher(nlp.vocab)\n",
    "    matcher.add('Stats', None, *stats_words)\n",
    "    matcher.add('NLP', None, *NLP_words)\n",
    "    matcher.add('ML', None, *ML_words)\n",
    "    matcher.add('DL', None, *DL_words)\n",
    "    matcher.add('R', None, *R_words)\n",
    "    matcher.add('Python', None, *python_words)\n",
    "    matcher.add('DE', None, *Data_Engineering_words)\n",
    "    doc = nlp(text)\n",
    "\n",
    "    d = []\n",
    "    matches = matcher(doc)\n",
    "    for match_id, start, end in matches:\n",
    "        rule_id = nlp.vocab.strings[match_id]  # get the unicode ID, i.e. 'COLOR'\n",
    "        span = doc[start: end]  # get the matched slice of the doc\n",
    "        d.append((rule_id, span.text))\n",
    "    keywords = \"\\n\".join(f'{i[0]} {i[1]} ({j})' for i, j in Counter(d).items())\n",
    "\n",
    "    ## converting string of keywords to dataframe\n",
    "    df = pd.read_csv(StringIO(keywords), names=['Keywords_List'])\n",
    "   # df1 = pd.DataFrame(df.Keywords_List.str.split(' ', 1).tolist(), columns=['Subject', 'Keyword'])\n",
    "    \n",
    "    df1 = pd.DataFrame(df.Keywords_List.apply(lambda x: x.split(' ', 1) if isinstance(x, str) else [x, '']).tolist(), columns=['Subject', 'Keyword'])\n",
    "\n",
    "    \n",
    "   # df2 = pd.DataFrame(df1.Keyword.str.split('(', 1).tolist(), columns=['Keyword', 'Count'])\n",
    "    \n",
    "    df2 = pd.DataFrame(df1.Keyword.apply(lambda x: x.split('(', 1) if isinstance(x, str) else [x, '']).tolist(), columns=['Keyword', 'Count'])\n",
    "\n",
    "    df3 = pd.concat([df1['Subject'], df2['Keyword'], df2['Count']], axis=1)\n",
    "    df3['Count'] = df3['Count'].apply(lambda x: x.rstrip(\")\"))\n",
    "\n",
    "    base = os.path.basename(file)\n",
    "    filename = os.path.splitext(base)[0]\n",
    "\n",
    "    name = filename.split('_')\n",
    "    name2 = name[0]\n",
    "    name2 = name2.lower()\n",
    "    ## converting str to dataframe\n",
    "    name3 = pd.read_csv(StringIO(name2), names=['Candidate Name'])\n",
    "\n",
    "    dataf = pd.concat([name3['Candidate Name'], df3['Subject'], df3['Keyword'], df3['Count']], axis=1)\n",
    "    dataf['Candidate Name'].fillna(dataf['Candidate Name'].iloc[0], inplace=True)\n",
    "\n",
    "    return (dataf)\n"
   ],
   "metadata": {
    "collapsed": false,
    "ExecuteTime": {
     "end_time": "2023-11-12T02:55:02.113166500Z",
     "start_time": "2023-11-12T02:55:02.104767800Z"
    }
   },
   "id": "8ab3ebd2c39e846e"
  },
  {
   "cell_type": "code",
   "execution_count": 190,
   "outputs": [],
   "source": [
    "# connect path to dir where resumes are stored\n",
    "mypath = 'D:/Documents/resumes'\n",
    "onlyfiles = [os.path.join(mypath, f) for f in os.listdir(mypath) if os.path.isfile(os.path.join(mypath, f))]\n"
   ],
   "metadata": {
    "collapsed": false,
    "ExecuteTime": {
     "end_time": "2023-11-12T02:55:02.612621500Z",
     "start_time": "2023-11-12T02:55:02.603904300Z"
    }
   },
   "id": "1803788a1e758b7d"
  },
  {
   "cell_type": "code",
   "execution_count": 191,
   "outputs": [
    {
     "name": "stdout",
     "output_type": "stream",
     "text": [
      "    Candidate Name Subject           Keyword Count\n",
      "0          rosacho  Python           python      3\n",
      "1          rosacho      DE              sql      1\n",
      "2          rosacho     NLP              nlp      3\n",
      "3          rosacho  Python           pandas      1\n",
      "4          rosacho      DL           opencv      1\n",
      "..             ...     ...               ...   ...\n",
      "172        rosacho  Python           pandas      1\n",
      "173        rosacho  Python            numpy      1\n",
      "174        rosacho      DL  computer vision      1\n",
      "175        rosacho      DL   neural network      1\n",
      "176       template     NaN               NaN   NaN\n",
      "\n",
      "[177 rows x 4 columns]\n"
     ]
    }
   ],
   "source": [
    "#code to execute/call the above functions\n",
    "\n",
    "final_database = pd.DataFrame()\n",
    "for file in onlyfiles:\n",
    "    dat = create_profile(os.path.join(mypath, file))\n",
    "    #final_database = final_database.append(dat)\n",
    "    final_database = pd.concat([final_database, dat], ignore_index=True)\n",
    "\n",
    "\n",
    "print(final_database)\n",
    "\n",
    "\n",
    "\n",
    "\n"
   ],
   "metadata": {
    "collapsed": false,
    "ExecuteTime": {
     "end_time": "2023-11-12T02:55:12.584795500Z",
     "start_time": "2023-11-12T02:55:03.008979700Z"
    }
   },
   "id": "d2594875ccc785a3"
  },
  {
   "cell_type": "code",
   "execution_count": 192,
   "outputs": [
    {
     "data": {
      "text/plain": "<Figure size 2500x700 with 1 Axes>",
      "image/png": "[encoded data removed]"
     },
     "metadata": {},
     "output_type": "display_data"
    }
   ],
   "source": [
    "#code to count words under each category and visulaize it through Matplotlib\n",
    "\n",
    "final_database2 = final_database['Keyword'].groupby([final_database['Candidate Name'], final_database['Subject']]).count().unstack()\n",
    "final_database2.reset_index(inplace = True)\n",
    "final_database2.fillna(0,inplace=True)\n",
    "new_data = final_database2.iloc[:,1:]\n",
    "new_data.index = final_database2['Candidate Name']\n",
    "#execute the below line if you want to see the candidate profile in a csv format\n",
    "#sample2=new_data.to_csv('sample.csv')\n",
    "import matplotlib.pyplot as plt\n",
    "plt.rcParams.update({'font.size': 10})\n",
    "ax = new_data.plot.barh(title=\"Resume keywords by category\", legend=False, figsize=(25,7), stacked=True)\n",
    "labels = []\n",
    "for j in new_data.columns:\n",
    "    for i in new_data.index:\n",
    "        label = str(j)+\": \" + str(new_data.loc[i][j])\n",
    "        labels.append(label)\n",
    "patches = ax.patches\n",
    "for label, rect in zip(labels, patches):\n",
    "    width = rect.get_width()\n",
    "    if width > 0:\n",
    "        x = rect.get_x()\n",
    "        y = rect.get_y()\n",
    "        height = rect.get_height()\n",
    "        ax.text(x + width/2., y + height/2., label, ha='center', va='center')\n",
    "plt.show()"
   ],
   "metadata": {
    "collapsed": false,
    "ExecuteTime": {
     "end_time": "2023-11-12T02:55:23.276952300Z",
     "start_time": "2023-11-12T02:55:23.028204100Z"
    }
   },
   "id": "c0294f4b819724c8"
  },
  {
   "cell_type": "code",
   "execution_count": null,
   "outputs": [],
   "source": [],
   "metadata": {
    "collapsed": false
   },
   "id": "750fbf57708a2738"
  },
  {
   "cell_type": "code",
   "execution_count": null,
   "outputs": [],
   "source": [],
   "metadata": {
    "collapsed": false
   },
   "id": "fb4423347dc18458"
  }
 ],
 "metadata": {
  "kernelspec": {
   "display_name": "Python 3",
   "language": "python",
   "name": "python3"
  },
  "language_info": {
   "codemirror_mode": {
    "name": "ipython",
    "version": 2
   },
   "file_extension": ".py",
   "mimetype": "text/x-python",
   "name": "python",
   "nbconvert_exporter": "python",
   "pygments_lexer": "ipython2",
   "version": "2.7.6"
  }
 },
 "nbformat": 4,
 "nbformat_minor": 5
}
